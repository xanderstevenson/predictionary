{
 "cells": [
  {
   "cell_type": "code",
   "execution_count": null,
   "metadata": {},
   "outputs": [],
   "source": [
    "import numpy as np\n",
    "import pandas as pd\n",
    "import holoviews as hv\n",
    "import datashader as ds\n",
    "import panel as pn\n",
    "\n",
    "from colorcet import bmy\n",
    "from holoviews.operation.datashader import rasterize, datashade\n",
    "\n",
    "hv.extension('bokeh')\n",
    "\n",
    "def load_data():\n",
    "    df = pd.read_csv('data/oggm_glacier_explorer.csv')\n",
    "    df['latdeg'] = df.cenlat\n",
    "    df['x'], df['y'] = ds.utils.lnglat_to_meters(df.cenlon, df.cenlat)\n",
    "    return df\n",
    "\n",
    "df = pn.state.as_cached('glaciers', load_data)\n",
    "\n",
    "df.tail()\n",
    "\n",
    "data = hv.Dataset(df, [('x', 'Longitude'), ('y', 'Latitude')],\n",
    "                     [('avg_prcp', 'Annual Precipitation (mm/yr)'),\n",
    "                      ('area_km2', 'Area'), ('latdeg', 'Latitude (deg)'),\n",
    "                      ('avg_temp_at_mean_elev', 'Annual Temperature at avg. altitude'), \n",
    "                      ('mean_elev', 'Elevation')])\n",
    "total_area = df.area_km2.sum()\n",
    "\n",
    "print(data, len(data), total_area)\n",
    "\n",
    "geo_kw    = dict(aggregator=ds.sum('area_km2'), x_sampling=1000, y_sampling=1000)\n",
    "elev_kw   = dict(cmap='#7d3c98')\n",
    "temp_kw   = dict(num_bins=50, adjoin=False, normed=False, bin_range=data.range('avg_temp_at_mean_elev'))\n",
    "prcp_kw   = dict(num_bins=50, adjoin=False, normed=False, bin_range=data.range('avg_prcp'))\n",
    "\n",
    "size_opts = dict(min_height=400, min_width=600, responsive=True)\n",
    "geo_opts  = dict(size_opts, cmap=bmy, logz=True, colorbar=True, xlabel='', ylabel='')\n",
    "elev_opts = dict(size_opts, show_grid=True)\n",
    "temp_opts = dict(size_opts, fill_color='#f1948a', default_tools=[], toolbar=None, alpha=1.0)\n",
    "prcp_opts = dict(size_opts, fill_color='#85c1e9', default_tools=[], toolbar=None, alpha=1.0)\n",
    "\n",
    "\n",
    "geo_bg = hv.element.tiles.EsriImagery().opts(alpha=0.6, bgcolor=\"black\")\n",
    "geopoints = hv.Points(data, vdims=['area_km2']).opts(**geo_opts)\n",
    "\n",
    "(geo_bg*rasterize(geopoints, **geo_kw).options(**geo_opts) + \n",
    " datashade(data.to(hv.Scatter, 'mean_elev','latdeg', []), **elev_kw).options(**elev_opts) + \n",
    " data.hist('avg_temp_at_mean_elev', **temp_kw).options(**temp_opts) +\n",
    " data.hist('avg_prcp',              **prcp_kw).options(**prcp_opts)).cols(2)"
   ]
  }
 ],
 "metadata": {
  "language_info": {
   "name": "python"
  },
  "orig_nbformat": 4
 },
 "nbformat": 4,
 "nbformat_minor": 2
}
